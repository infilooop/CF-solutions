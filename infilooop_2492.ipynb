{
  "nbformat": 4,
  "nbformat_minor": 0,
  "metadata": {
    "colab": {
      "name": "infilooop#2492.ipynb",
      "provenance": [],
      "collapsed_sections": [],
      "authorship_tag": "ABX9TyNQa2r+CWjgO85tho5wBez/",
      "include_colab_link": true
    },
    "kernelspec": {
      "name": "python3",
      "display_name": "Python 3"
    },
    "language_info": {
      "name": "python"
    }
  },
  "cells": [
    {
      "cell_type": "markdown",
      "metadata": {
        "id": "view-in-github",
        "colab_type": "text"
      },
      "source": [
        "<a href=\"https://colab.research.google.com/github/infilooop/CF-solutions/blob/main/infilooop_2492.ipynb\" target=\"_parent\"><img src=\"https://colab.research.google.com/assets/colab-badge.svg\" alt=\"Open In Colab\"/></a>"
      ]
    },
    {
      "cell_type": "code",
      "metadata": {
        "colab": {
          "base_uri": "https://localhost:8080/",
          "height": 235
        },
        "id": "3jww32R61WZb",
        "outputId": "a37bbd80-a815-4dea-f9f0-a08fa36eb299"
      },
      "source": [
        "import pandas_datareader as web\n",
        "import datetime\n",
        "\n",
        "start=datetime.datetime(2020,1,1)\n",
        "end=datetime.datetime(2020,12,31)\n",
        "\n",
        "df1=web.DataReader(\"nvda\",'yahoo',start,end)\n",
        "df1.head()"
      ],
      "execution_count": 15,
      "outputs": [
        {
          "output_type": "execute_result",
          "data": {
            "text/html": [
              "<div>\n",
              "<style scoped>\n",
              "    .dataframe tbody tr th:only-of-type {\n",
              "        vertical-align: middle;\n",
              "    }\n",
              "\n",
              "    .dataframe tbody tr th {\n",
              "        vertical-align: top;\n",
              "    }\n",
              "\n",
              "    .dataframe thead th {\n",
              "        text-align: right;\n",
              "    }\n",
              "</style>\n",
              "<table border=\"1\" class=\"dataframe\">\n",
              "  <thead>\n",
              "    <tr style=\"text-align: right;\">\n",
              "      <th></th>\n",
              "      <th>High</th>\n",
              "      <th>Low</th>\n",
              "      <th>Open</th>\n",
              "      <th>Close</th>\n",
              "      <th>Volume</th>\n",
              "      <th>Adj Close</th>\n",
              "    </tr>\n",
              "    <tr>\n",
              "      <th>Date</th>\n",
              "      <th></th>\n",
              "      <th></th>\n",
              "      <th></th>\n",
              "      <th></th>\n",
              "      <th></th>\n",
              "      <th></th>\n",
              "    </tr>\n",
              "  </thead>\n",
              "  <tbody>\n",
              "    <tr>\n",
              "      <th>2020-01-02</th>\n",
              "      <td>239.910004</td>\n",
              "      <td>236.720001</td>\n",
              "      <td>238.750000</td>\n",
              "      <td>239.910004</td>\n",
              "      <td>5938400.0</td>\n",
              "      <td>239.377289</td>\n",
              "    </tr>\n",
              "    <tr>\n",
              "      <th>2020-01-03</th>\n",
              "      <td>237.830002</td>\n",
              "      <td>234.100006</td>\n",
              "      <td>235.100006</td>\n",
              "      <td>236.070007</td>\n",
              "      <td>5134600.0</td>\n",
              "      <td>235.545807</td>\n",
              "    </tr>\n",
              "    <tr>\n",
              "      <th>2020-01-06</th>\n",
              "      <td>237.270004</td>\n",
              "      <td>231.270004</td>\n",
              "      <td>232.320007</td>\n",
              "      <td>237.059998</td>\n",
              "      <td>6565900.0</td>\n",
              "      <td>236.533600</td>\n",
              "    </tr>\n",
              "    <tr>\n",
              "      <th>2020-01-07</th>\n",
              "      <td>241.770004</td>\n",
              "      <td>236.389999</td>\n",
              "      <td>238.199997</td>\n",
              "      <td>239.929993</td>\n",
              "      <td>7871400.0</td>\n",
              "      <td>239.397232</td>\n",
              "    </tr>\n",
              "    <tr>\n",
              "      <th>2020-01-08</th>\n",
              "      <td>242.039993</td>\n",
              "      <td>238.149994</td>\n",
              "      <td>239.759995</td>\n",
              "      <td>240.380005</td>\n",
              "      <td>6927700.0</td>\n",
              "      <td>239.846237</td>\n",
              "    </tr>\n",
              "  </tbody>\n",
              "</table>\n",
              "</div>"
            ],
            "text/plain": [
              "                  High         Low  ...     Volume   Adj Close\n",
              "Date                                ...                       \n",
              "2020-01-02  239.910004  236.720001  ...  5938400.0  239.377289\n",
              "2020-01-03  237.830002  234.100006  ...  5134600.0  235.545807\n",
              "2020-01-06  237.270004  231.270004  ...  6565900.0  236.533600\n",
              "2020-01-07  241.770004  236.389999  ...  7871400.0  239.397232\n",
              "2020-01-08  242.039993  238.149994  ...  6927700.0  239.846237\n",
              "\n",
              "[5 rows x 6 columns]"
            ]
          },
          "metadata": {
            "tags": []
          },
          "execution_count": 15
        }
      ]
    },
    {
      "cell_type": "code",
      "metadata": {
        "colab": {
          "base_uri": "https://localhost:8080/",
          "height": 235
        },
        "id": "yF5jGmA32W1o",
        "outputId": "b149883e-a1e9-4821-8220-18acc42df48c"
      },
      "source": [
        "df2=web.DataReader(\"tsla\",'yahoo',start,end)\n",
        "df2.head()"
      ],
      "execution_count": 11,
      "outputs": [
        {
          "output_type": "execute_result",
          "data": {
            "text/html": [
              "<div>\n",
              "<style scoped>\n",
              "    .dataframe tbody tr th:only-of-type {\n",
              "        vertical-align: middle;\n",
              "    }\n",
              "\n",
              "    .dataframe tbody tr th {\n",
              "        vertical-align: top;\n",
              "    }\n",
              "\n",
              "    .dataframe thead th {\n",
              "        text-align: right;\n",
              "    }\n",
              "</style>\n",
              "<table border=\"1\" class=\"dataframe\">\n",
              "  <thead>\n",
              "    <tr style=\"text-align: right;\">\n",
              "      <th></th>\n",
              "      <th>High</th>\n",
              "      <th>Low</th>\n",
              "      <th>Open</th>\n",
              "      <th>Close</th>\n",
              "      <th>Volume</th>\n",
              "      <th>Adj Close</th>\n",
              "    </tr>\n",
              "    <tr>\n",
              "      <th>Date</th>\n",
              "      <th></th>\n",
              "      <th></th>\n",
              "      <th></th>\n",
              "      <th></th>\n",
              "      <th></th>\n",
              "      <th></th>\n",
              "    </tr>\n",
              "  </thead>\n",
              "  <tbody>\n",
              "    <tr>\n",
              "      <th>2020-01-02</th>\n",
              "      <td>86.139999</td>\n",
              "      <td>84.342003</td>\n",
              "      <td>84.900002</td>\n",
              "      <td>86.052002</td>\n",
              "      <td>47660500.0</td>\n",
              "      <td>86.052002</td>\n",
              "    </tr>\n",
              "    <tr>\n",
              "      <th>2020-01-03</th>\n",
              "      <td>90.800003</td>\n",
              "      <td>87.384003</td>\n",
              "      <td>88.099998</td>\n",
              "      <td>88.601997</td>\n",
              "      <td>88892500.0</td>\n",
              "      <td>88.601997</td>\n",
              "    </tr>\n",
              "    <tr>\n",
              "      <th>2020-01-06</th>\n",
              "      <td>90.311996</td>\n",
              "      <td>88.000000</td>\n",
              "      <td>88.094002</td>\n",
              "      <td>90.307999</td>\n",
              "      <td>50665000.0</td>\n",
              "      <td>90.307999</td>\n",
              "    </tr>\n",
              "    <tr>\n",
              "      <th>2020-01-07</th>\n",
              "      <td>94.325996</td>\n",
              "      <td>90.671997</td>\n",
              "      <td>92.279999</td>\n",
              "      <td>93.811996</td>\n",
              "      <td>89410500.0</td>\n",
              "      <td>93.811996</td>\n",
              "    </tr>\n",
              "    <tr>\n",
              "      <th>2020-01-08</th>\n",
              "      <td>99.697998</td>\n",
              "      <td>93.646004</td>\n",
              "      <td>94.739998</td>\n",
              "      <td>98.428001</td>\n",
              "      <td>155721500.0</td>\n",
              "      <td>98.428001</td>\n",
              "    </tr>\n",
              "  </tbody>\n",
              "</table>\n",
              "</div>"
            ],
            "text/plain": [
              "                 High        Low       Open      Close       Volume  Adj Close\n",
              "Date                                                                          \n",
              "2020-01-02  86.139999  84.342003  84.900002  86.052002   47660500.0  86.052002\n",
              "2020-01-03  90.800003  87.384003  88.099998  88.601997   88892500.0  88.601997\n",
              "2020-01-06  90.311996  88.000000  88.094002  90.307999   50665000.0  90.307999\n",
              "2020-01-07  94.325996  90.671997  92.279999  93.811996   89410500.0  93.811996\n",
              "2020-01-08  99.697998  93.646004  94.739998  98.428001  155721500.0  98.428001"
            ]
          },
          "metadata": {
            "tags": []
          },
          "execution_count": 11
        }
      ]
    },
    {
      "cell_type": "code",
      "metadata": {
        "colab": {
          "base_uri": "https://localhost:8080/",
          "height": 235
        },
        "id": "7Xze1Hgr2un3",
        "outputId": "59e60857-f240-4a6e-edf0-cdfc0685e1ce"
      },
      "source": [
        "df3=web.DataReader(\"goog\",'yahoo',start,end)\n",
        "df3.head()"
      ],
      "execution_count": 12,
      "outputs": [
        {
          "output_type": "execute_result",
          "data": {
            "text/html": [
              "<div>\n",
              "<style scoped>\n",
              "    .dataframe tbody tr th:only-of-type {\n",
              "        vertical-align: middle;\n",
              "    }\n",
              "\n",
              "    .dataframe tbody tr th {\n",
              "        vertical-align: top;\n",
              "    }\n",
              "\n",
              "    .dataframe thead th {\n",
              "        text-align: right;\n",
              "    }\n",
              "</style>\n",
              "<table border=\"1\" class=\"dataframe\">\n",
              "  <thead>\n",
              "    <tr style=\"text-align: right;\">\n",
              "      <th></th>\n",
              "      <th>High</th>\n",
              "      <th>Low</th>\n",
              "      <th>Open</th>\n",
              "      <th>Close</th>\n",
              "      <th>Volume</th>\n",
              "      <th>Adj Close</th>\n",
              "    </tr>\n",
              "    <tr>\n",
              "      <th>Date</th>\n",
              "      <th></th>\n",
              "      <th></th>\n",
              "      <th></th>\n",
              "      <th></th>\n",
              "      <th></th>\n",
              "      <th></th>\n",
              "    </tr>\n",
              "  </thead>\n",
              "  <tbody>\n",
              "    <tr>\n",
              "      <th>2020-01-02</th>\n",
              "      <td>1368.140015</td>\n",
              "      <td>1341.550049</td>\n",
              "      <td>1341.550049</td>\n",
              "      <td>1367.369995</td>\n",
              "      <td>1406600</td>\n",
              "      <td>1367.369995</td>\n",
              "    </tr>\n",
              "    <tr>\n",
              "      <th>2020-01-03</th>\n",
              "      <td>1372.500000</td>\n",
              "      <td>1345.543945</td>\n",
              "      <td>1347.859985</td>\n",
              "      <td>1360.660034</td>\n",
              "      <td>1186400</td>\n",
              "      <td>1360.660034</td>\n",
              "    </tr>\n",
              "    <tr>\n",
              "      <th>2020-01-06</th>\n",
              "      <td>1396.500000</td>\n",
              "      <td>1350.000000</td>\n",
              "      <td>1350.000000</td>\n",
              "      <td>1394.209961</td>\n",
              "      <td>1732300</td>\n",
              "      <td>1394.209961</td>\n",
              "    </tr>\n",
              "    <tr>\n",
              "      <th>2020-01-07</th>\n",
              "      <td>1402.989990</td>\n",
              "      <td>1390.380005</td>\n",
              "      <td>1397.939941</td>\n",
              "      <td>1393.339966</td>\n",
              "      <td>1502700</td>\n",
              "      <td>1393.339966</td>\n",
              "    </tr>\n",
              "    <tr>\n",
              "      <th>2020-01-08</th>\n",
              "      <td>1411.579956</td>\n",
              "      <td>1390.839966</td>\n",
              "      <td>1392.079956</td>\n",
              "      <td>1404.319946</td>\n",
              "      <td>1528000</td>\n",
              "      <td>1404.319946</td>\n",
              "    </tr>\n",
              "  </tbody>\n",
              "</table>\n",
              "</div>"
            ],
            "text/plain": [
              "                   High          Low  ...   Volume    Adj Close\n",
              "Date                                  ...                      \n",
              "2020-01-02  1368.140015  1341.550049  ...  1406600  1367.369995\n",
              "2020-01-03  1372.500000  1345.543945  ...  1186400  1360.660034\n",
              "2020-01-06  1396.500000  1350.000000  ...  1732300  1394.209961\n",
              "2020-01-07  1402.989990  1390.380005  ...  1502700  1393.339966\n",
              "2020-01-08  1411.579956  1390.839966  ...  1528000  1404.319946\n",
              "\n",
              "[5 rows x 6 columns]"
            ]
          },
          "metadata": {
            "tags": []
          },
          "execution_count": 12
        }
      ]
    },
    {
      "cell_type": "code",
      "metadata": {
        "colab": {
          "base_uri": "https://localhost:8080/",
          "height": 512
        },
        "id": "0yQXNFPD3H4E",
        "outputId": "d8c086e5-6e2d-4fa8-b53a-209b57754a78"
      },
      "source": [
        "import pandas as pd\n",
        "import numpy as np\n",
        "import matplotlib.pyplot as plt\n",
        "\n",
        "plt.style.use('seaborn')\n",
        "df1.plot.scatter(x='Volume',y='Adj Close', figsize=(10, 8), grid=True)\n",
        "plt.xlabel('Volumes')\n",
        "plt.ylabel('Return')\n",
        "plt.title('Expected Frontier')\n",
        "plt.show()"
      ],
      "execution_count": 16,
      "outputs": [
        {
          "output_type": "display_data",
          "data": {
            "image/png": "[encoded data removed]",
            "text/plain": [
              "<Figure size 720x576 with 1 Axes>"
            ]
          },
          "metadata": {
            "tags": []
          }
        }
      ]
    },
    {
      "cell_type": "code",
      "metadata": {
        "colab": {
          "base_uri": "https://localhost:8080/",
          "height": 512
        },
        "id": "WvNf_44b4Dz8",
        "outputId": "d65c7b9c-0254-45e4-cc96-e85ff7d6a3d1"
      },
      "source": [
        "plt.style.use('seaborn')\n",
        "df2.plot.scatter(x='Volume',y='Adj Close', figsize=(10, 8), grid=True)\n",
        "plt.xlabel('Volumes')\n",
        "plt.ylabel('Return')\n",
        "plt.title('Expected Frontier')\n",
        "plt.show()"
      ],
      "execution_count": 17,
      "outputs": [
        {
          "output_type": "display_data",
          "data": {
            "image/png": "[encoded data removed]",
            "text/plain": [
              "<Figure size 720x576 with 1 Axes>"
            ]
          },
          "metadata": {
            "tags": []
          }
        }
      ]
    },
    {
      "cell_type": "code",
      "metadata": {
        "colab": {
          "base_uri": "https://localhost:8080/",
          "height": 512
        },
        "id": "ritNoVK-4XWS",
        "outputId": "e726d852-893a-4f13-84c5-0bd15505e384"
      },
      "source": [
        "plt.style.use('seaborn')\n",
        "df3.plot.scatter(x='Volume',y='Adj Close', figsize=(10, 8), grid=True)\n",
        "plt.xlabel('Volumes')\n",
        "plt.ylabel('Return')\n",
        "plt.title('Expected Frontier')\n",
        "plt.show()"
      ],
      "execution_count": 18,
      "outputs": [
        {
          "output_type": "display_data",
          "data": {
            "image/png": "[encoded data removed]",
            "text/plain": [
              "<Figure size 720x576 with 1 Axes>"
            ]
          },
          "metadata": {
            "tags": []
          }
        }
      ]
    }
  ]
}